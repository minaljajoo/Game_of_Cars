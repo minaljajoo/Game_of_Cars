{
 "cells": [
  {
   "cell_type": "code",
   "execution_count": 1,
   "metadata": {},
   "outputs": [],
   "source": [
    "import matplotlib.pyplot as plt\n",
    "from sklearn.neighbors import KNeighborsClassifier\n",
    "from sklearn.preprocessing import StandardScaler, LabelEncoder\n",
    "import pandas as pd\n",
    "import os\n",
    "import pickle"
   ]
  },
  {
   "cell_type": "code",
   "execution_count": 2,
   "metadata": {},
   "outputs": [
    {
     "data": {
      "text/html": [
       "<div>\n",
       "<style scoped>\n",
       "    .dataframe tbody tr th:only-of-type {\n",
       "        vertical-align: middle;\n",
       "    }\n",
       "\n",
       "    .dataframe tbody tr th {\n",
       "        vertical-align: top;\n",
       "    }\n",
       "\n",
       "    .dataframe thead th {\n",
       "        text-align: right;\n",
       "    }\n",
       "</style>\n",
       "<table border=\"1\" class=\"dataframe\">\n",
       "  <thead>\n",
       "    <tr style=\"text-align: right;\">\n",
       "      <th></th>\n",
       "      <th>Resale-Cat</th>\n",
       "      <th>fuel_type</th>\n",
       "      <th>vehicle_class</th>\n",
       "      <th>trans</th>\n",
       "      <th>drive</th>\n",
       "      <th>smog_rating</th>\n",
       "      <th>city_mpg</th>\n",
       "      <th>hwy_mpg</th>\n",
       "      <th>cmb_mpg</th>\n",
       "      <th>Greenhouse_gas_score</th>\n",
       "      <th>smartway</th>\n",
       "      <th>comb_CO2</th>\n",
       "      <th>Sales_2016</th>\n",
       "      <th>Sales_2017</th>\n",
       "      <th>Sales_2018</th>\n",
       "    </tr>\n",
       "  </thead>\n",
       "  <tbody>\n",
       "    <tr>\n",
       "      <th>0</th>\n",
       "      <td>0</td>\n",
       "      <td>3</td>\n",
       "      <td>5</td>\n",
       "      <td>2</td>\n",
       "      <td>0</td>\n",
       "      <td>6</td>\n",
       "      <td>15.0</td>\n",
       "      <td>17.0</td>\n",
       "      <td>1</td>\n",
       "      <td>3</td>\n",
       "      <td>1</td>\n",
       "      <td>555.0</td>\n",
       "      <td>103217</td>\n",
       "      <td>106583</td>\n",
       "      <td>20848</td>\n",
       "    </tr>\n",
       "    <tr>\n",
       "      <th>1</th>\n",
       "      <td>0</td>\n",
       "      <td>3</td>\n",
       "      <td>2</td>\n",
       "      <td>8</td>\n",
       "      <td>1</td>\n",
       "      <td>5</td>\n",
       "      <td>18.0</td>\n",
       "      <td>23.0</td>\n",
       "      <td>2</td>\n",
       "      <td>4</td>\n",
       "      <td>1</td>\n",
       "      <td>444.0</td>\n",
       "      <td>178914</td>\n",
       "      <td>185615</td>\n",
       "      <td>228947</td>\n",
       "    </tr>\n",
       "    <tr>\n",
       "      <th>2</th>\n",
       "      <td>0</td>\n",
       "      <td>3</td>\n",
       "      <td>2</td>\n",
       "      <td>8</td>\n",
       "      <td>0</td>\n",
       "      <td>7</td>\n",
       "      <td>19.0</td>\n",
       "      <td>24.0</td>\n",
       "      <td>2</td>\n",
       "      <td>5</td>\n",
       "      <td>1</td>\n",
       "      <td>430.0</td>\n",
       "      <td>178914</td>\n",
       "      <td>185615</td>\n",
       "      <td>228947</td>\n",
       "    </tr>\n",
       "    <tr>\n",
       "      <th>3</th>\n",
       "      <td>0</td>\n",
       "      <td>3</td>\n",
       "      <td>2</td>\n",
       "      <td>8</td>\n",
       "      <td>0</td>\n",
       "      <td>5</td>\n",
       "      <td>19.0</td>\n",
       "      <td>24.0</td>\n",
       "      <td>2</td>\n",
       "      <td>5</td>\n",
       "      <td>1</td>\n",
       "      <td>430.0</td>\n",
       "      <td>178914</td>\n",
       "      <td>185615</td>\n",
       "      <td>228947</td>\n",
       "    </tr>\n",
       "    <tr>\n",
       "      <th>4</th>\n",
       "      <td>0</td>\n",
       "      <td>3</td>\n",
       "      <td>2</td>\n",
       "      <td>6</td>\n",
       "      <td>1</td>\n",
       "      <td>7</td>\n",
       "      <td>17.0</td>\n",
       "      <td>21.0</td>\n",
       "      <td>2</td>\n",
       "      <td>4</td>\n",
       "      <td>1</td>\n",
       "      <td>471.0</td>\n",
       "      <td>178914</td>\n",
       "      <td>185615</td>\n",
       "      <td>228947</td>\n",
       "    </tr>\n",
       "  </tbody>\n",
       "</table>\n",
       "</div>"
      ],
      "text/plain": [
       "   Resale-Cat  fuel_type  vehicle_class  trans  drive  smog_rating  city_mpg  \\\n",
       "0           0          3              5      2      0            6      15.0   \n",
       "1           0          3              2      8      1            5      18.0   \n",
       "2           0          3              2      8      0            7      19.0   \n",
       "3           0          3              2      8      0            5      19.0   \n",
       "4           0          3              2      6      1            7      17.0   \n",
       "\n",
       "   hwy_mpg  cmb_mpg  Greenhouse_gas_score  smartway  comb_CO2  Sales_2016  \\\n",
       "0     17.0        1                     3         1     555.0      103217   \n",
       "1     23.0        2                     4         1     444.0      178914   \n",
       "2     24.0        2                     5         1     430.0      178914   \n",
       "3     24.0        2                     5         1     430.0      178914   \n",
       "4     21.0        2                     4         1     471.0      178914   \n",
       "\n",
       "   Sales_2017  Sales_2018  \n",
       "0      106583       20848  \n",
       "1      185615      228947  \n",
       "2      185615      228947  \n",
       "3      185615      228947  \n",
       "4      185615      228947  "
      ]
     },
     "execution_count": 2,
     "metadata": {},
     "output_type": "execute_result"
    }
   ],
   "source": [
    "# save the model to disk\n",
    "\n",
    "#Read the file \n",
    "car_sales_encoded = pd.read_csv(\"Resources/car_sales_mpg_encoded.csv\")\n",
    "car_sales_encoded.head()"
   ]
  },
  {
   "cell_type": "code",
   "execution_count": 3,
   "metadata": {},
   "outputs": [
    {
     "data": {
      "text/plain": [
       "1    200\n",
       "2    176\n",
       "0     95\n",
       "Name: cmb_mpg, dtype: int64"
      ]
     },
     "execution_count": 3,
     "metadata": {},
     "output_type": "execute_result"
    }
   ],
   "source": [
    "car_sales_encoded['cmb_mpg'].value_counts()"
   ]
  },
  {
   "cell_type": "code",
   "execution_count": 4,
   "metadata": {},
   "outputs": [],
   "source": [
    "# Sepearate dataset\n",
    "car_sales_ml = car_sales_encoded.copy()\n",
    "X = car_sales_ml.drop('cmb_mpg', axis=1)\n",
    "y = car_sales_ml['cmb_mpg']\n"
   ]
  },
  {
   "cell_type": "code",
   "execution_count": 5,
   "metadata": {},
   "outputs": [],
   "source": [
    "from sklearn.utils import shuffle\n",
    "#Shuffle the dataset to mix up the rows\n",
    "X,y = shuffle(X,y,random_state=1)"
   ]
  },
  {
   "cell_type": "code",
   "execution_count": 6,
   "metadata": {},
   "outputs": [],
   "source": [
    "# Split the data into training and testing\n",
    "\n",
    "### BEGIN SOLUTION\n",
    "from sklearn.model_selection import train_test_split\n",
    "X_train, X_test, y_train, y_test = train_test_split(X, y, random_state=42, stratify=y)\n",
    "### END SOLUTION\n"
   ]
  },
  {
   "cell_type": "code",
   "execution_count": 7,
   "metadata": {},
   "outputs": [],
   "source": [
    "from sklearn.preprocessing import StandardScaler\n",
    "\n",
    "# Create a StandardScater model and fit it to the training data\n",
    "\n",
    "X_scaler = StandardScaler().fit(X_train)"
   ]
  },
  {
   "cell_type": "code",
   "execution_count": 8,
   "metadata": {},
   "outputs": [],
   "source": [
    "# Transform the training and testing data using the X_scaler and y_scaler models\n",
    "\n",
    "X_train_scaled = X_scaler.transform(X_train)\n",
    "X_test_scaled = X_scaler.transform(X_test)"
   ]
  },
  {
   "cell_type": "code",
   "execution_count": 9,
   "metadata": {},
   "outputs": [
    {
     "name": "stdout",
     "output_type": "stream",
     "text": [
      "k: 1, Train/Test Score: 1.000/0.992\n",
      "k: 3, Train/Test Score: 0.972/0.949\n",
      "k: 5, Train/Test Score: 0.963/0.992\n",
      "k: 7, Train/Test Score: 0.935/0.881\n",
      "k: 9, Train/Test Score: 0.907/0.847\n",
      "k: 11, Train/Test Score: 0.901/0.864\n",
      "k: 13, Train/Test Score: 0.890/0.864\n",
      "k: 15, Train/Test Score: 0.907/0.881\n",
      "k: 17, Train/Test Score: 0.915/0.932\n",
      "k: 19, Train/Test Score: 0.921/0.941\n"
     ]
    },
    {
     "data": {
      "image/png": "[encoded data removed]",
      "text/plain": [
       "<Figure size 432x288 with 1 Axes>"
      ]
     },
     "metadata": {
      "needs_background": "light"
     },
     "output_type": "display_data"
    }
   ],
   "source": [
    "# Loop through different k values to see which has the highest accuracy\n",
    "# Note: We only use odd numbers because we don't want any ties\n",
    "train_scores = []\n",
    "test_scores = []\n",
    "for k in range(1, 20, 2):\n",
    "    knn = KNeighborsClassifier(n_neighbors=k)\n",
    "    knn.fit(X_train_scaled, y_train)\n",
    "    train_score = knn.score(X_train_scaled, y_train)\n",
    "    test_score = knn.score(X_test_scaled, y_test)\n",
    "    train_scores.append(train_score)\n",
    "    test_scores.append(test_score)\n",
    "    print(f\"k: {k}, Train/Test Score: {train_score:.3f}/{test_score:.3f}\")\n",
    "    \n",
    "    \n",
    "plt.plot(range(1, 20, 2), train_scores, marker='o')\n",
    "plt.plot(range(1, 20, 2), test_scores, marker=\"x\")\n",
    "plt.xlabel(\"k neighbors\")\n",
    "plt.ylabel(\"Testing accuracy Score\")\n",
    "plt.show()"
   ]
  },
  {
   "cell_type": "code",
   "execution_count": 10,
   "metadata": {},
   "outputs": [
    {
     "name": "stdout",
     "output_type": "stream",
     "text": [
      "k=17 Test Acc: 0.847\n"
     ]
    }
   ],
   "source": [
    "# Note that k: 17 seems to be the best choice for this dataset\n",
    "knn = KNeighborsClassifier(n_neighbors=17)\n",
    "knn.fit(X_train, y_train)\n",
    "print('k=17 Test Acc: %.3f' % knn.score(X_test, y_test))"
   ]
  },
  {
   "cell_type": "code",
   "execution_count": 11,
   "metadata": {},
   "outputs": [],
   "source": [
    "# save the model to disk\n",
    "filename = 'Model/finalized_mpg_model_KN.sav'\n",
    "pickle.dump(knn, open(filename, 'wb'))"
   ]
  },
  {
   "cell_type": "code",
   "execution_count": 12,
   "metadata": {},
   "outputs": [],
   "source": [
    "# load the model from disk\n",
    "loaded_model = pickle.load(open(filename, 'rb'))\n"
   ]
  },
  {
   "cell_type": "code",
   "execution_count": 13,
   "metadata": {},
   "outputs": [],
   "source": [
    "df = pd.read_csv('Resources/encoded_output.csv')\n",
    "new_df = df.drop(df.columns[df.columns.str.contains('unnamed',case = False)],axis = 1)\n"
   ]
  },
  {
   "cell_type": "code",
   "execution_count": 14,
   "metadata": {},
   "outputs": [
    {
     "name": "stdout",
     "output_type": "stream",
     "text": [
      "0    2\n",
      "1    0\n",
      "2    2\n",
      "3    0\n",
      "4    1\n",
      "5    1\n",
      "6    1\n",
      "7    2\n",
      "Name: cmb_mpg, dtype: int64\n"
     ]
    }
   ],
   "source": [
    "\n",
    "newX = new_df.drop('cmb_mpg', axis=1)\n",
    "newy = new_df['cmb_mpg']\n",
    "print(newy)"
   ]
  },
  {
   "cell_type": "code",
   "execution_count": null,
   "metadata": {},
   "outputs": [],
   "source": []
  },
  {
   "cell_type": "code",
   "execution_count": 15,
   "metadata": {},
   "outputs": [
    {
     "name": "stdout",
     "output_type": "stream",
     "text": [
      "   Resale_Cat  fuel_type  vehicle_class  trans  drive  smog_rating  city_mpg  \\\n",
      "0           1          1              0      6      1            5        16   \n",
      "1           1          1              5      4      0            6        25   \n",
      "2           1          1              0      6      0            9        18   \n",
      "3           1          0              1      0      0           10       126   \n",
      "4           0          1              4      5      1            6        17   \n",
      "5           0          1              2      3      0            5        16   \n",
      "6           0          1              3      1      1            6        17   \n",
      "7           0          1              2      2      0            6        19   \n",
      "\n",
      "   hwy_mpg  Greenhouse_gas_score  smartway  comb_CO2  Sales_2016  Sales_2017  \\\n",
      "0       25                     4         1       459       12071        8731   \n",
      "1       33                     7         2       312       14380       11467   \n",
      "2       27                     5         1       414        3542        2553   \n",
      "3      101                    10         0         0       13251       10458   \n",
      "4       21                     4         1       478      104456      119597   \n",
      "5       22                     3         1       497      207299      204211   \n",
      "6       21                     3         1       481      180991      179188   \n",
      "7       26                     5         1       410       23666       32068   \n",
      "\n",
      "   Sales_2018  \n",
      "0        7909  \n",
      "1        4916  \n",
      "2        1348  \n",
      "3       14565  \n",
      "4      130025  \n",
      "5       30244  \n",
      "6      228293  \n",
      "7       28486  \n"
     ]
    }
   ],
   "source": [
    "# Encode the dependent variable\n",
    "encoder = LabelEncoder()\n",
    "encoder.fit(newy)\n",
    "print(newX)"
   ]
  },
  {
   "cell_type": "code",
   "execution_count": 16,
   "metadata": {},
   "outputs": [],
   "source": [
    "# load the model from disk\n",
    "loaded_model = pickle.load(open(filename, 'rb'))\n",
    "result = loaded_model.score(newX, newy)"
   ]
  },
  {
   "cell_type": "code",
   "execution_count": 17,
   "metadata": {},
   "outputs": [
    {
     "name": "stdout",
     "output_type": "stream",
     "text": [
      "1.0\n"
     ]
    }
   ],
   "source": [
    "print(result)"
   ]
  },
  {
   "cell_type": "code",
   "execution_count": 18,
   "metadata": {},
   "outputs": [],
   "source": [
    "ynew = loaded_model.predict(newX)"
   ]
  },
  {
   "cell_type": "code",
   "execution_count": 19,
   "metadata": {},
   "outputs": [
    {
     "name": "stdout",
     "output_type": "stream",
     "text": [
      "[2 0 2 0 1 1 1 2]\n"
     ]
    }
   ],
   "source": [
    "print (ynew)"
   ]
  },
  {
   "cell_type": "code",
   "execution_count": null,
   "metadata": {},
   "outputs": [],
   "source": []
  }
 ],
 "metadata": {
  "kernelspec": {
   "display_name": "Python 3",
   "language": "python",
   "name": "python3"
  },
  "language_info": {
   "codemirror_mode": {
    "name": "ipython",
    "version": 3
   },
   "file_extension": ".py",
   "mimetype": "text/x-python",
   "name": "python",
   "nbconvert_exporter": "python",
   "pygments_lexer": "ipython3",
   "version": "3.6.6"
  }
 },
 "nbformat": 4,
 "nbformat_minor": 2
}
